{
 "cells": [
  {
   "cell_type": "code",
   "execution_count": 59,
   "id": "c504480a-059b-4f95-867e-5d57dd327aab",
   "metadata": {},
   "outputs": [],
   "source": [
    "import pandas as pd\n",
    "import numpy as np"
   ]
  },
  {
   "cell_type": "code",
   "execution_count": 64,
   "id": "939598dd-ae90-4815-b3f4-22f8a698ea97",
   "metadata": {},
   "outputs": [
    {
     "name": "stdout",
     "output_type": "stream",
     "text": [
      "Hello World\n"
     ]
    }
   ],
   "source": [
    "print(\"Hello World\")"
   ]
  },
  {
   "cell_type": "code",
   "execution_count": 2,
   "id": "538f1dcf-8d92-4609-9b6b-9a4e7a52cd10",
   "metadata": {},
   "outputs": [
    {
     "name": "stdout",
     "output_type": "stream",
     "text": [
      "Adhya Anil Kumar\n"
     ]
    }
   ],
   "source": [
    "print(\"Adhya Anil Kumar\")"
   ]
  },
  {
   "cell_type": "code",
   "execution_count": null,
   "id": "401d89fa-1ab0-48e1-99d6-b71269b10168",
   "metadata": {},
   "outputs": [],
   "source": [
    "print(\"This is the first commit\")"
   ]
  }
 ],
 "metadata": {
  "kernelspec": {
   "display_name": "Python 3 (ipykernel)",
   "language": "python",
   "name": "python3"
  },
  "language_info": {
   "codemirror_mode": {
    "name": "ipython",
    "version": 3
   },
   "file_extension": ".py",
   "mimetype": "text/x-python",
   "name": "python",
   "nbconvert_exporter": "python",
   "pygments_lexer": "ipython3",
   "version": "3.12.4"
  }
 },
 "nbformat": 4,
 "nbformat_minor": 5
}
